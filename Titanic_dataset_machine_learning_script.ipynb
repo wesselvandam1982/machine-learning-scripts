{
 "cells": [
  {
   "cell_type": "code",
   "execution_count": 2,
   "metadata": {},
   "outputs": [
    {
     "name": "stdout",
     "output_type": "stream",
     "text": [
      "Univariate selection\n",
      "\n",
      "\n",
      "    Specs        Score\n",
      "4    fare  4278.032489\n",
      "1     sex    85.865658\n",
      "2     age    32.491165\n",
      "0  pclass    25.920561\n",
      "3   sibsp     0.300368\n"
     ]
    }
   ],
   "source": [
    "#-------------------------------------------------------------------\n",
    "#\n",
    "# Machine Learning script for feature extraction based on \"Titanic_train.csv\"\n",
    "#-------------------------------------------------------------------\n",
    "\n",
    "import pandas as pd\n",
    "import numpy as np\n",
    "from sklearn.feature_selection import SelectKBest\n",
    "from sklearn.feature_selection import chi2\n",
    "data = pd.read_csv('Titanic_train.csv')\n",
    "\n",
    "data = data[['pclass','sex','age','sibsp','fare','survived']]\n",
    "data = data.dropna()\n",
    "#print data.shape\n",
    "\n",
    "#here I replace the 0 and 1s for died and survived\n",
    "data.loc[data.survived == 0, 'survived'] = 'died'\n",
    "data.loc[data.survived == 1, 'survived'] = 'survived'\n",
    "\n",
    "#here I replace the 'female' and 'male' variable to make it numeric\n",
    "data.loc[data.sex == 'male', 'sex'] = 1\n",
    "data.loc[data.sex == 'female', 'sex'] = 0\n",
    "\n",
    "#print data.head(5)\n",
    "\n",
    "#X = data.iloc[:,np.r_[0,2:14]] # use np.r_ to select nonconsecutive columns\n",
    "X = data.iloc[:,0:5] \n",
    "y = data.iloc[:,-1]    #target column i.e price range\n",
    "\n",
    "# Variable X contains all the features, Variable Y contains the target \n",
    "\n",
    "#apply SelectKBest class to extract top 10 best features based on Univariate Selection\n",
    "print (\"Univariate selection\")\n",
    "print (\"\\n\")\n",
    "bestfeatures = SelectKBest(score_func=chi2, k=5)\n",
    "fit = bestfeatures.fit(X,y)\n",
    "dfscores = pd.DataFrame(fit.scores_)\n",
    "dfcolumns = pd.DataFrame(X.columns)\n",
    "#concat two dataframes for better visualization \n",
    "featureScores = pd.concat([dfcolumns,dfscores],axis=1)\n",
    "featureScores.columns = ['Specs','Score']  #naming the dataframe columns\n",
    "print(featureScores.nlargest(5,'Score'))  #print 5 best features\n",
    "\n",
    "# Based on the SelectKBest algorithm the fare, sex, age, pclass, sibsp are the best \n",
    "# features in that order\n"
   ]
  },
  {
   "cell_type": "code",
   "execution_count": 4,
   "metadata": {},
   "outputs": [
    {
     "name": "stdout",
     "output_type": "stream",
     "text": [
      "Feature Importance\n",
      "\n",
      "\n",
      "[0.11429555 0.28558537 0.28249539 0.03400025 0.28362345]\n"
     ]
    },
    {
     "name": "stderr",
     "output_type": "stream",
     "text": [
      "/Users/SammyChrisChris/anaconda2/envs/python3.7/lib/python3.7/site-packages/sklearn/ensemble/forest.py:246: FutureWarning: The default value of n_estimators will change from 10 in version 0.20 to 100 in 0.22.\n",
      "  \"10 in version 0.20 to 100 in 0.22.\", FutureWarning)\n"
     ]
    },
    {
     "data": {
      "image/png": "[encoded data removed]",
      "text/plain": [
       "<Figure size 432x288 with 1 Axes>"
      ]
     },
     "metadata": {
      "needs_background": "light"
     },
     "output_type": "display_data"
    }
   ],
   "source": [
    "print (\"Feature Importance\")\n",
    "print (\"\\n\")\n",
    "\n",
    "#You can get the feature importance of each feature of your dataset \n",
    "#by using the feature importance property of the model. Feature importance \n",
    "#gives you a score for each feature of your data, the higher the score more \n",
    "#important or relevant is the feature towards your output variable.\n",
    "\n",
    "#Feature importance is an inbuilt class that comes with Tree Based Classifiers, \n",
    "#we will be using Extra Tree Classifier for extracting the top 10 features for the dataset.\n",
    "\n",
    "from sklearn.ensemble import ExtraTreesClassifier\n",
    "import matplotlib.pyplot as plt\n",
    "model = ExtraTreesClassifier()\n",
    "model.fit(X,y)\n",
    "print(model.feature_importances_) #use inbuilt class feature_importances of tree based classifiers\n",
    "#plot graph of feature importances for better visualization\n",
    "feat_importances = pd.Series(model.feature_importances_, index=X.columns)\n",
    "feat_importances.nlargest(5).plot(kind='barh')\n",
    "plt.show()\n",
    "\n",
    "# you can see that the data converge with the results from the univariate selection"
   ]
  },
  {
   "cell_type": "code",
   "execution_count": 5,
   "metadata": {},
   "outputs": [
    {
     "data": {
      "image/png": "[encoded data removed]",
      "text/plain": [
       "<Figure size 576x576 with 2 Axes>"
      ]
     },
     "metadata": {
      "needs_background": "light"
     },
     "output_type": "display_data"
    }
   ],
   "source": [
    "# Correlation Heat map to determine how the features are correlated to each other and the\n",
    "# target variable\n",
    "X = data.iloc[:,0:5] \n",
    "y = data.iloc[:,-1] \n",
    "\n",
    "import seaborn as sns\n",
    "#get correlations of each features in dataset\n",
    "corrmat = data.corr()\n",
    "top_corr_features = corrmat.index\n",
    "plt.figure(figsize=(8,8))\n",
    "#plot heat map\n",
    "g=sns.heatmap(data[top_corr_features].corr(),annot=True,cmap=\"RdYlGn\")\n",
    "plt.show()\n",
    "\n",
    "# given that sex and our target variable survived are categorical, no correlation\n",
    "# can be calculated for those variables"
   ]
  },
  {
   "cell_type": "code",
   "execution_count": null,
   "metadata": {},
   "outputs": [],
   "source": []
  }
 ],
 "metadata": {
  "kernelspec": {
   "display_name": "Python 3",
   "language": "python",
   "name": "python3"
  },
  "language_info": {
   "codemirror_mode": {
    "name": "ipython",
    "version": 3
   },
   "file_extension": ".py",
   "mimetype": "text/x-python",
   "name": "python",
   "nbconvert_exporter": "python",
   "pygments_lexer": "ipython3",
   "version": "3.7.3"
  }
 },
 "nbformat": 4,
 "nbformat_minor": 2
}
